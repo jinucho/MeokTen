{
 "cells": [
  {
   "cell_type": "markdown",
   "metadata": {},
   "source": [
    "# 먹을텐데 식당 추천 서비스"
   ]
  },
  {
   "cell_type": "code",
   "execution_count": 1,
   "metadata": {},
   "outputs": [],
   "source": [
    "import yt_dlp\n",
    "import base64\n",
    "import json\n",
    "import tempfile\n",
    "import os\n",
    "from dotenv import load_dotenv\n",
    "\n",
    "load_dotenv()\n",
    "youtube_cookies = os.getenv(\"YOUTUBE_COOKIES\")"
   ]
  },
  {
   "cell_type": "markdown",
   "metadata": {},
   "source": [
    "## 플레이리스트 수집"
   ]
  },
  {
   "cell_type": "code",
   "execution_count": null,
   "metadata": {},
   "outputs": [],
   "source": [
    "# 플레이리스트 URL\n",
    "playlist_url = (\n",
    "    \"https://www.youtube.com/playlist?list=PLuMuHAJh9g_Py_PSm8gmHdlcil6CQ9QCM\"\n",
    ")\n",
    "\n",
    "\n",
    "# 쿠키 파일 생성 함수\n",
    "def create_cookie_file(cookie_data_base64):\n",
    "    if not cookie_data_base64:\n",
    "        return None\n",
    "\n",
    "    try:\n",
    "        # base64로 인코딩된 쿠키 문자열을 디코딩\n",
    "        cookie_data = base64.b64decode(cookie_data_base64).decode(\"utf-8\")\n",
    "\n",
    "        # 쿠키가 JSON 형식인지 확인하고 Netscape 형식으로 변환\n",
    "        try:\n",
    "            # JSON 형식인지 확인\n",
    "            json_cookies = json.loads(cookie_data)\n",
    "\n",
    "            # Netscape 형식으로 변환\n",
    "            netscape_cookies = \"# Netscape HTTP Cookie File\\n\"\n",
    "            for cookie in json_cookies:\n",
    "                if all(k in cookie for k in [\"domain\", \"path\", \"name\", \"value\"]):\n",
    "                    secure = \"TRUE\" if cookie.get(\"secure\", False) else \"FALSE\"\n",
    "                    http_only = \"TRUE\" if cookie.get(\"httpOnly\", False) else \"FALSE\"\n",
    "                    expires = str(int(cookie.get(\"expirationDate\", 0)))\n",
    "                    netscape_cookies += f\"{cookie['domain']}\\tTRUE\\t{cookie['path']}\\t{secure}\\t{expires}\\t{cookie['name']}\\t{cookie['value']}\\n\"\n",
    "\n",
    "            cookie_data = netscape_cookies\n",
    "        except json.JSONDecodeError:\n",
    "            # 이미 Netscape 형식이거나 다른 형식인 경우 그대로 사용\n",
    "            pass\n",
    "\n",
    "        # 임시 파일 생성\n",
    "        cookie_file = tempfile.NamedTemporaryFile(delete=False, suffix=\".txt\")\n",
    "        cookie_file.write(cookie_data.encode(\"utf-8\"))\n",
    "        cookie_file.close()\n",
    "\n",
    "        return cookie_file.name\n",
    "    except Exception as e:\n",
    "        print(f\"쿠키 파일 생성 중 오류 발생: {str(e)}\")\n",
    "        return None\n",
    "\n",
    "\n",
    "# 플레이리스트 정보 가져오기\n",
    "def get_playlist_info(playlist_url, cookie_file_path=None):\n",
    "    ydl_opts = {\n",
    "        \"quiet\": True,\n",
    "        \"no_warnings\": True,\n",
    "        \"extract_flat\": True,  # 플레이리스트 항목만 추출\n",
    "        \"nocheckcertificate\": True,\n",
    "        \"ignoreerrors\": True,\n",
    "        \"no_color\": True,\n",
    "        \"user_agent\": \"Mozilla/5.0 (Windows NT 10.0; Win64; x64) AppleWebKit/537.36 (KHTML, like Gecko) Chrome/91.0.4472.124 Safari/537.36\",\n",
    "    }\n",
    "\n",
    "    # 쿠키 파일이 있으면 옵션에 추가\n",
    "    if cookie_file_path:\n",
    "        ydl_opts[\"cookiefile\"] = cookie_file_path\n",
    "\n",
    "    try:\n",
    "        with yt_dlp.YoutubeDL(ydl_opts) as ydl:\n",
    "            playlist_info = ydl.extract_info(playlist_url, download=False)\n",
    "            return playlist_info\n",
    "    except Exception as e:\n",
    "        print(f\"플레이리스트 정보 추출 중 오류 발생: {str(e)}\")\n",
    "        return None\n",
    "\n",
    "\n",
    "# 메인 실행 코드\n",
    "try:\n",
    "    # 쿠키 파일 생성\n",
    "    cookie_file_path = create_cookie_file(youtube_cookies) if youtube_cookies else None\n",
    "\n",
    "    # 플레이리스트 정보 가져오기\n",
    "    playlist_info = get_playlist_info(playlist_url, cookie_file_path)\n",
    "\n",
    "    if playlist_info:\n",
    "        print(f\"플레이리스트 제목: {playlist_info.get('title', '제목 없음')}\")\n",
    "        print(f\"총 {len(playlist_info.get('entries', []))}개의 동영상이 있습니다.\")\n",
    "\n",
    "        # 각 동영상 정보 출력\n",
    "        for i, entry in enumerate(playlist_info.get(\"entries\", []), 1):\n",
    "            print(\n",
    "                f\"{i}. {entry.get('title', '제목 없음')}: https://www.youtube.com/watch?v={entry.get('id', '')}\"\n",
    "            )\n",
    "    else:\n",
    "        print(\"플레이리스트 정보를 가져오지 못했습니다.\")\n",
    "finally:\n",
    "    # 임시 쿠키 파일 삭제\n",
    "    if cookie_file_path and os.path.exists(cookie_file_path):\n",
    "        os.unlink(cookie_file_path)"
   ]
  },
  {
   "cell_type": "markdown",
   "metadata": {},
   "source": [
    "## 수집된 영상의 자막 스크립트 수집\n",
    "\n",
    "- 성시경의 먹을텐데 영상은 자체 자막을 반드시 지원하고? 있는것으로 확인 됨\n",
    "- 따라서 STT를 하지 않고 자막을 수집하여 메뉴 추출"
   ]
  },
  {
   "cell_type": "code",
   "execution_count": 2,
   "metadata": {},
   "outputs": [],
   "source": [
    "import json\n",
    "\n",
    "\n",
    "# 쿠키 파일 생성 함수\n",
    "def create_cookie_file(cookie_data_base64):\n",
    "    if not cookie_data_base64:\n",
    "        return None\n",
    "\n",
    "    try:\n",
    "        # base64로 인코딩된 쿠키 문자열을 디코딩\n",
    "        cookie_data = base64.b64decode(cookie_data_base64).decode(\"utf-8\")\n",
    "        print(\"쿠키 데이터 디코딩 완료\")\n",
    "\n",
    "        # 쿠키가 JSON 형식인지 확인하고 Netscape 형식으로 변환\n",
    "        try:\n",
    "            # JSON 형식인지 확인\n",
    "            json_cookies = json.loads(cookie_data)\n",
    "            print(\"JSON 형식 쿠키 감지됨, Netscape 형식으로 변환 중\")\n",
    "\n",
    "            # Netscape 형식으로 변환\n",
    "            netscape_cookies = \"# Netscape HTTP Cookie File\\n\"\n",
    "            for cookie in json_cookies:\n",
    "                if all(k in cookie for k in [\"domain\", \"path\", \"name\", \"value\"]):\n",
    "                    secure = \"TRUE\" if cookie.get(\"secure\", False) else \"FALSE\"\n",
    "                    http_only = \"TRUE\" if cookie.get(\"httpOnly\", False) else \"FALSE\"\n",
    "                    expires = str(int(cookie.get(\"expirationDate\", 0)))\n",
    "                    netscape_cookies += f\"{cookie['domain']}\\tTRUE\\t{cookie['path']}\\t{secure}\\t{expires}\\t{cookie['name']}\\t{cookie['value']}\\n\"\n",
    "\n",
    "            cookie_data = netscape_cookies\n",
    "        except json.JSONDecodeError:\n",
    "            # 이미 Netscape 형식이거나 다른 형식인 경우 그대로 사용\n",
    "            print(\"쿠키가 JSON 형식이 아닙니다. 원본 형식 유지\")\n",
    "            pass\n",
    "\n",
    "        # 임시 파일 생성\n",
    "        cookie_file = tempfile.NamedTemporaryFile(delete=False, suffix=\".txt\")\n",
    "        cookie_file.write(cookie_data.encode(\"utf-8\"))\n",
    "        cookie_file.close()\n",
    "        print(f\"쿠키 파일 생성 완료: {cookie_file.name}\")\n",
    "\n",
    "        return cookie_file.name\n",
    "    except Exception as e:\n",
    "        print(f\"쿠키 파일 생성 중 오류 발생: {str(e)}\")\n",
    "        return None"
   ]
  },
  {
   "cell_type": "code",
   "execution_count": null,
   "metadata": {},
   "outputs": [],
   "source": [
    "youtube_cookies = os.environ.get(\"YOUTUBE_COOKIES\", \"\")\n",
    "cookie_file_path = create_cookie_file(youtube_cookies) if youtube_cookies else None"
   ]
  },
  {
   "cell_type": "code",
   "execution_count": null,
   "metadata": {},
   "outputs": [],
   "source": [
    "import yt_dlp\n",
    "\n",
    "ydl_opts = {\n",
    "    \"quiet\": True,\n",
    "    \"no_warnings\": True,\n",
    "    \"extract_flat\": True,  # 기본 정보만 추출하도록 변경\n",
    "    \"writesubtitles\": True,  # 자막 정보 가져오기\n",
    "    \"skip_download\": True,  # 영상 다운로드 없이 정보만 가져오기\n",
    "    \"nocheckcertificate\": True,\n",
    "    \"ignoreerrors\": True,\n",
    "    \"subtitleslangs\": [\"ko\", \"en\"],\n",
    "    \"no_color\": True,\n",
    "    \"socket_timeout\": 30,  # 소켓 타임아웃 설정\n",
    "    \"user_agent\": \"Mozilla/5.0 (Windows NT 10.0; Win64; x64) AppleWebKit/537.36 (KHTML, like Gecko) Chrome/91.0.4472.124 Safari/537.36\",\n",
    "    \"cookiefile\": cookie_file_path,\n",
    "}\n",
    "# YouTube 객체 생성\n",
    "video_url = \"https://www.youtube.com/watch?v=8sseq7MuLjY\"\n",
    "yt = yt_dlp.YoutubeDL(ydl_opts)\n",
    "video_info = yt.extract_info(video_url, download=False)\n",
    "\n",
    "print(\"제목:\", video_info.get(\"title\"))\n",
    "print(\"설명:\", video_info.get(\"description\"))\n",
    "print(\"영상 URL:\", video_info.get(\"webpage_url\"))\n",
    "\n",
    "# video_id = yt.video_id  # 동영상 ID 추출\n",
    "\n",
    "# script = []\n",
    "\n",
    "\n",
    "# # 자막 가져오기\n",
    "# try:\n",
    "#     transcript = yt.get_transcript(video_id, languages=[\"ko\", \"en\"],cookies=cookie_file_path)\n",
    "#     print(f\"영상 제목: {yt.title}\")\n",
    "#     for entry in transcript:\n",
    "#         script.append(entry[\"text\"])\n",
    "# except Exception as e:\n",
    "#     print(f\"자막을 가져오는 중 오류 발생: {e}\")"
   ]
  },
  {
   "cell_type": "code",
   "execution_count": 39,
   "metadata": {},
   "outputs": [],
   "source": [
    "list(video_info[\"subtitles\"].keys()).remove(\"live_chat\")"
   ]
  },
  {
   "cell_type": "code",
   "execution_count": null,
   "metadata": {},
   "outputs": [],
   "source": [
    "import requests\n",
    "\n",
    "sub_url = video_info[\"subtitles\"]\n",
    "try:\n",
    "    response = requests.get(sub_url[\"ko\"][0][\"url\"])\n",
    "    print(\"한글 자막 존재\")\n",
    "except:\n",
    "    response = requests.get(sub_url[\"en\"][0][\"url\"])\n",
    "    print(\"영어 자막 존재\")"
   ]
  },
  {
   "cell_type": "code",
   "execution_count": null,
   "metadata": {},
   "outputs": [],
   "source": [
    "response.json()[\"events\"][0][\"segs\"][0][\"utf8\"]"
   ]
  },
  {
   "cell_type": "code",
   "execution_count": null,
   "metadata": {},
   "outputs": [],
   "source": [
    "for event in response.json()[\"events\"]:\n",
    "    for seg in event[\"segs\"]:\n",
    "        print(seg[\"utf8\"])"
   ]
  },
  {
   "cell_type": "code",
   "execution_count": 41,
   "metadata": {},
   "outputs": [],
   "source": [
    "def convert_vtt_to_text(response):\n",
    "    \"\"\"VTT 형식의 자막을 일반 텍스트로 변환\"\"\"\n",
    "    # 타임스탬프 및 VTT 헤더 제거\n",
    "    text_lines = []\n",
    "\n",
    "    try:\n",
    "        for event in response.get(\"events\", []):\n",
    "            if \"segs\" in event and event[\"segs\"]:\n",
    "                for seg in event[\"segs\"]:\n",
    "                    if \"utf8\" in seg and seg[\"utf8\"].strip():\n",
    "                        text_lines.append(seg[\"utf8\"].strip())\n",
    "\n",
    "        result = \"\\n\".join(text_lines)\n",
    "        if not result.strip():\n",
    "            return None\n",
    "\n",
    "        return result\n",
    "    except Exception as e:\n",
    "\n",
    "        return None"
   ]
  },
  {
   "cell_type": "code",
   "execution_count": null,
   "metadata": {},
   "outputs": [],
   "source": [
    "import requests\n",
    "\n",
    "automatic_captions = video_info.get(\"automatic_captions\", {})\n",
    "for i in automatic_captions[\"ko\"]:\n",
    "    if i.get(\"ext\") == \"json3\":\n",
    "        url = i[\"url\"]\n",
    "        print(url)\n",
    "        response = requests.get(url)\n",
    "        if response.status_code == 200:\n",
    "            transcript_text = convert_vtt_to_text(response.json())\n",
    "            if transcript_text:\n",
    "                print(f\"자동 생성 자막(ko) 추출 완료\")"
   ]
  },
  {
   "cell_type": "code",
   "execution_count": null,
   "metadata": {},
   "outputs": [],
   "source": [
    "response.json()"
   ]
  },
  {
   "cell_type": "code",
   "execution_count": null,
   "metadata": {},
   "outputs": [],
   "source": [
    "print(transcript_text)"
   ]
  },
  {
   "cell_type": "markdown",
   "metadata": {},
   "source": [
    "## 수집된 영상의 정보 수집"
   ]
  },
  {
   "cell_type": "code",
   "execution_count": null,
   "metadata": {},
   "outputs": [],
   "source": [
    "# from pytubefix import YouTube\n",
    "# yt = YouTube(\"https://youtube.com/watch?v=vBjWJgDaNds\")\n",
    "\n",
    "\n",
    "# description = yt.description.split(\"\\n\")\n",
    "# name = description[0]\n",
    "# address = description[1]\n",
    "\n",
    "## 별도의 YouTube 인스턴스를 만드는 것이 아닌 첫번째 셀에서 작업한 플레이리스트에서 description 추출\n",
    "playlist.videos[1].title, playlist.videos[1].description, video_url"
   ]
  },
  {
   "cell_type": "code",
   "execution_count": 15,
   "metadata": {},
   "outputs": [],
   "source": [
    "description = playlist.videos[1].description.split(\"\\n\")\n",
    "name = description[0]\n",
    "address = description[1]"
   ]
  },
  {
   "cell_type": "code",
   "execution_count": null,
   "metadata": {},
   "outputs": [],
   "source": [
    "name"
   ]
  },
  {
   "cell_type": "code",
   "execution_count": null,
   "metadata": {},
   "outputs": [],
   "source": [
    "# 수집된 주소를 기반으로 좌표 확인 필요\n",
    "address"
   ]
  },
  {
   "cell_type": "code",
   "execution_count": 1,
   "metadata": {},
   "outputs": [],
   "source": [
    "from pytubefix import YouTube\n",
    "\n",
    "yt = YouTube(\"https://youtube.com/watch?v=vBjWJgDaNds\")"
   ]
  },
  {
   "cell_type": "code",
   "execution_count": null,
   "metadata": {},
   "outputs": [],
   "source": [
    "yt.description"
   ]
  },
  {
   "cell_type": "markdown",
   "metadata": {},
   "source": [
    "## 주소 기반으로 좌표 수집"
   ]
  },
  {
   "cell_type": "code",
   "execution_count": null,
   "metadata": {},
   "outputs": [],
   "source": [
    "import requests\n",
    "import os\n",
    "from dotenv import load_dotenv\n",
    "\n",
    "load_dotenv()\n",
    "\n",
    "# Kakao API Key\n",
    "KAKAO_API_KEY = os.getenv(\"KAKAO_API_KEY\")\n",
    "\n",
    "\n",
    "# Kakao Geocoding API 요청\n",
    "url = \"https://dapi.kakao.com/v2/local/search/address.json\"\n",
    "headers = {\"Authorization\": f\"KakaoAK {KAKAO_API_KEY}\"}\n",
    "params = {\"query\": address}\n",
    "\n",
    "response = requests.get(url, headers=headers, params=params)\n",
    "if response.status_code == 200:\n",
    "    data = response.json()\n",
    "    if data[\"documents\"]:\n",
    "        location = data[\"documents\"][0]\n",
    "        latitude = location[\"y\"]\n",
    "        longitude = location[\"x\"]\n",
    "        print(f\"위도: {latitude}, 경도: {longitude}\")\n",
    "    else:\n",
    "        print(\"주소로부터 좌표를 찾을 수 없습니다.\")\n",
    "else:\n",
    "    print(\"API 요청 실패:\", response.status_code)"
   ]
  },
  {
   "cell_type": "markdown",
   "metadata": {},
   "source": [
    "## 수집된 좌표를 지도에 표시\n",
    "\n",
    "- streamlit에 표시해야 하므로 아래 방법은 바뀔 수 있음"
   ]
  },
  {
   "cell_type": "code",
   "execution_count": null,
   "metadata": {},
   "outputs": [],
   "source": [
    "import folium\n",
    "\n",
    "# 위도와 경도\n",
    "latitude = 37.498095  # 예시 좌표\n",
    "longitude = 127.027610  # 예시 좌표\n",
    "\n",
    "# 지도 생성\n",
    "m = folium.Map(location=[latitude, longitude], zoom_start=16)\n",
    "folium.Marker([latitude, longitude], popup=\"대동빌딩\").add_to(m)\n",
    "\n",
    "# HTML로 저장\n",
    "m.save(\"map.html\")\n",
    "print(\"지도 파일이 'map.html'로 저장되었습니다.\")"
   ]
  },
  {
   "cell_type": "markdown",
   "metadata": {},
   "source": [
    "## 스크립트를 llm을 통해 정리"
   ]
  },
  {
   "cell_type": "code",
   "execution_count": 26,
   "metadata": {},
   "outputs": [],
   "source": [
    "from langchain_openai import ChatOpenAI\n",
    "from dotenv import load_dotenv\n",
    "from pydantic import BaseModel, Field\n",
    "from typing import List\n",
    "from langchain_core.output_parsers import JsonOutputParser\n",
    "from langchain_core.prompts import PromptTemplate\n",
    "from operator import itemgetter\n",
    "\n",
    "# 환경 변수 로드\n",
    "load_dotenv()\n",
    "\n",
    "# LLM 초기화\n",
    "# llm = ChatOpenAI(model_name=\"gpt-4o-mini\", temperature=0.1)\n",
    "llm = ChatOpenAI(model_name=\"gpt-4o\", temperature=0.1)\n",
    "\n",
    "\n",
    "# 식당 정보 모델\n",
    "class Info(BaseModel):\n",
    "    menu: str = Field(..., description=\"식당 메뉴\")\n",
    "    review: str = Field(..., description=\"식당 후기\")\n",
    "\n",
    "\n",
    "# 최종 응답 모델\n",
    "class Answers(BaseModel):\n",
    "    answer: str = Field(..., description=\"답변 내용\")\n",
    "    infos: List[Info] = Field(..., description=\"식당 정보\")"
   ]
  },
  {
   "cell_type": "code",
   "execution_count": 33,
   "metadata": {},
   "outputs": [],
   "source": [
    "prompt = PromptTemplate.from_template(\n",
    "    \"\"\"다음은 성시겨의 먹을텐데 유튜브 영상의 스크립트입니다. \n",
    "스크립트를 읽고 아래의 형식으로 모든 데이터를 한글로 추출해주세요.\n",
    "                                      \n",
    "SCRIPT:\n",
    "{script}\n",
    "\n",
    "### 주의사항\n",
    "1. 성시경이 언급한 메뉴를 정리하세요.\n",
    "2. 메뉴들을 주메뉴와 건더기, 반찬 등으로 구분 하세요.\n",
    "3. 반찬과 건더기는 해당 메인메뉴의 리뷰에 포함시키세요.\n",
    "4. 메뉴의 종류는 언급된 메뉴에 맞는 카테고리를 적합하게 작성해주세요.\n",
    "\n",
    "\n",
    "OUTPUT_FORMAT:\n",
    "{{\n",
    "  \"restaurant_name\": \"script의 가게명\",\n",
    "  \"menus\": [\n",
    "   {{\n",
    "      \"menu_type\": \"메뉴의 종류 (예: 양식, 일식, 한식 등)\",\n",
    "      \"menu_name\": \"메뉴명\",\n",
    "      \"menu_review\": \"영상에 언급된 해당 메뉴에 대한 성시경이 느낀점과 자연스러운 설명\"\n",
    "    }},\n",
    "    ...\n",
    "  ]\n",
    "}}\n",
    "\"\"\"\n",
    ")"
   ]
  },
  {
   "cell_type": "code",
   "execution_count": 34,
   "metadata": {},
   "outputs": [],
   "source": [
    "parser = JsonOutputParser(pydantic_object=Answers)"
   ]
  },
  {
   "cell_type": "code",
   "execution_count": 35,
   "metadata": {},
   "outputs": [],
   "source": [
    "chain = {\"input\": itemgetter(\"input\")} | prompt | llm | parser"
   ]
  },
  {
   "cell_type": "code",
   "execution_count": 36,
   "metadata": {},
   "outputs": [],
   "source": [
    "with open(\"temp.txt\", \"r\") as f:\n",
    "    data = f.read()"
   ]
  },
  {
   "cell_type": "code",
   "execution_count": 37,
   "metadata": {},
   "outputs": [],
   "source": [
    "result = chain.invoke({\"input\": data})"
   ]
  },
  {
   "cell_type": "code",
   "execution_count": null,
   "metadata": {},
   "outputs": [],
   "source": [
    "result      "
   ]
  },
  {
   "cell_type": "markdown",
   "metadata": {},
   "source": [
    "## 수집된 데이터들을 db에 저장\n",
    "\n",
    "- db는 sqlite?\n",
    "- 가게이름, 주소, 좌표, 메뉴들, 후기들\n",
    "    - 메뉴들, 후기들을 어떻게 묶어서 정리할 지 정해야 함.\n",
    "- 키는 영상의 ID &rarr; llHQEbY28a4"
   ]
  },
  {
   "cell_type": "code",
   "execution_count": 8,
   "metadata": {},
   "outputs": [],
   "source": [
    "import sqlite3\n",
    "\n",
    "db = sqlite3.connect(\"meokten.db\")"
   ]
  },
  {
   "cell_type": "code",
   "execution_count": 9,
   "metadata": {},
   "outputs": [],
   "source": [
    "cur = db.cursor()"
   ]
  },
  {
   "cell_type": "code",
   "execution_count": 3,
   "metadata": {},
   "outputs": [],
   "source": [
    "cur.execute(\n",
    "    \"\"\"\n",
    "CREATE TABLE IF NOT EXISTS meokten (\n",
    "            id TEXT PRIMARY KEY,\n",
    "            name TEXT NOT NULL,\n",
    "            address TEXT,\n",
    "            cordinate TEXT,\n",
    "            menus,\n",
    "            reviews)\"\"\"\n",
    ")\n",
    "db.commit()"
   ]
  },
  {
   "cell_type": "markdown",
   "metadata": {},
   "source": [
    "# 위경도 기반 주변 지하철 조회"
   ]
  },
  {
   "cell_type": "code",
   "execution_count": null,
   "metadata": {},
   "outputs": [],
   "source": [
    "import requests\n",
    "import os\n",
    "from dotenv import load_dotenv\n",
    "\n",
    "load_dotenv()\n",
    "\n",
    "# 카카오 API 키 (Authorization: KakaoAK YOUR_API_KEY)\n",
    "API_KEY = os.getenv(\"KAKAO_API_KEY\")\n",
    "\n",
    "\n",
    "def get_coordinates(address):\n",
    "    \"\"\"주소를 위도/경도로 변환\"\"\"\n",
    "    url = \"https://dapi.kakao.com/v2/local/search/address.json\"\n",
    "    headers = {\"Authorization\": f\"KakaoAK {API_KEY}\"}\n",
    "    params = {\"query\": address}\n",
    "    response = requests.get(url, headers=headers, params=params).json()\n",
    "\n",
    "    if response[\"documents\"]:\n",
    "        return (\n",
    "            response[\"documents\"][0][\"y\"],\n",
    "            response[\"documents\"][0][\"x\"],\n",
    "        )  # 위도, 경도\n",
    "    return None, None\n",
    "\n",
    "\n",
    "def get_nearest_subway(lat, lon):\n",
    "    \"\"\"주어진 좌표에서 가장 가까운 지하철역 찾기\"\"\"\n",
    "    url = \"https://dapi.kakao.com/v2/local/search/category.json\"\n",
    "    headers = {\"Authorization\": f\"KakaoAK {API_KEY}\"}\n",
    "    params = {\n",
    "        \"category_group_code\": \"SW8\",  # 지하철 카테고리\n",
    "        \"x\": lon,\n",
    "        \"y\": lat,\n",
    "        \"radius\": 2000,  # 검색 반경 (최대 10km)\n",
    "        \"sort\": \"distance\",  # 거리순 정렬\n",
    "    }\n",
    "    response = requests.get(url, headers=headers, params=params).json()\n",
    "\n",
    "    if response[\"documents\"]:\n",
    "        nearest = response[\"documents\"][0]\n",
    "        return nearest[\"place_name\"], nearest[\"distance\"], nearest[\"address_name\"]\n",
    "    return None, None, None\n",
    "\n",
    "\n",
    "# 테스트 주소\n",
    "address = \"서울 종로구 자하문로6길 6 2, 3층 (통의동 35-12)\"\n",
    "\n",
    "lat, lon = get_coordinates(address)\n",
    "print(lat, lon)\n",
    "if lat and lon:\n",
    "    station_name, distance, station_address = get_nearest_subway(lat, lon)\n",
    "    print(f\"가장 가까운 지하철역: {station_name} ({distance}m, {station_address})\")\n",
    "else:\n",
    "    print(\"주소 변환 실패\")"
   ]
  },
  {
   "cell_type": "code",
   "execution_count": 1,
   "metadata": {},
   "outputs": [],
   "source": [
    "from langchain_community.utilities import SQLDatabase\n",
    "\n",
    "\n",
    "db = SQLDatabase.from_uri(\"sqlite:///../meokten/meokten.db\")"
   ]
  },
  {
   "cell_type": "code",
   "execution_count": 2,
   "metadata": {},
   "outputs": [
    {
     "data": {
      "text/plain": [
       "''"
      ]
     },
     "execution_count": 2,
     "metadata": {},
     "output_type": "execute_result"
    }
   ],
   "source": [
    "db.run(\"SELECT r.id AS restaurant_id, r.name AS restaurant_name, r.address, r.station_name, r.latitude AS lat, r.longitude AS lng, r.video_id, r.video_url, m.id AS menu_id, m.restaurant_id AS menu_restaurant_id, m.menu_name AS menu_name, m.menu_type, m.menu_review FROM restaurants r LEFT JOIN menus m ON r.id = m.restaurant_id WHERE r.address LIKE '%포천%'\")"
   ]
  },
  {
   "cell_type": "code",
   "execution_count": null,
   "metadata": {},
   "outputs": [],
   "source": []
  }
 ],
 "metadata": {
  "kernelspec": {
   "display_name": "youtube",
   "language": "python",
   "name": "python3"
  },
  "language_info": {
   "codemirror_mode": {
    "name": "ipython",
    "version": 3
   },
   "file_extension": ".py",
   "mimetype": "text/x-python",
   "name": "python",
   "nbconvert_exporter": "python",
   "pygments_lexer": "ipython3",
   "version": "3.10.16"
  }
 },
 "nbformat": 4,
 "nbformat_minor": 2
}
