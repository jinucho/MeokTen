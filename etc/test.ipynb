{
 "cells": [
  {
   "cell_type": "code",
   "execution_count": 76,
   "metadata": {},
   "outputs": [],
   "source": [
    "from typing import Annotated, TypedDict\n",
    "import operator\n",
    "from typing_extensions import TypedDict\n",
    "from langgraph.graph import StateGraph, START, END\n",
    "\n",
    "# 상태 타입 정의\n",
    "class State(TypedDict):\n",
    "    aggregate: Annotated[list, operator.add]  # 결과를 누적하는 리스트\n",
    "    query: str  # 사용자 질의\n",
    "    context: str  # 검색 결과나 컨텍스트\n",
    "    sql: str  # 생성된 SQL 쿼리\n",
    "\n",
    "# 검색 필요 여부 확인 노드 (상태를 반환하는 노드 함수)\n",
    "def route_node(state: State):\n",
    "    # 노드 함수는 상태 변화만 처리하고 아무것도 반환하지 않거나 빈 딕셔너리 반환\n",
    "    print(f\"Processing query: {state.get('query', '')}\")\n",
    "    return {}  # 또는 상태 업데이트가 필요하면 업데이트된 필드를 포함한 딕셔너리\n",
    "\n",
    "# 라우팅을 위한 함수 (문자열 경로를 반환하는 라우팅 함수)\n",
    "def route_to_search_or_skip(state: State) -> str:\n",
    "    query = state.get(\"query\", \"\")\n",
    "    if \"[SEARCH]\" in query:\n",
    "        print(\"Found [SEARCH] in query, will perform web search\")\n",
    "        return \"do_search\"\n",
    "    else:\n",
    "        print(\"No [SEARCH] in query, will skip web search\")\n",
    "        return \"skip_search\"\n",
    "\n",
    "# 웹 검색 수행 노드\n",
    "def tavily_search(state: State):\n",
    "    query = state.get(\"query\", \"\").replace(\"[SEARCH]\", \"\").strip()\n",
    "    print(f\"Performing web search for: {query}\")\n",
    "    # 실제로는 여기서 Tavily API 호출\n",
    "    search_results = f\"Simulated search results for: {query}\"\n",
    "    return {\"context\": search_results}\n",
    "\n",
    "# SQL 생성 노드 - 검색 결과가 있으면 활용\n",
    "def sql_agent(state: State):\n",
    "    query = state.get(\"query\", \"\").replace(\"[SEARCH]\", \"\").strip()\n",
    "    context = state.get(\"context\", \"\")\n",
    "    \n",
    "    print(f\"Generating SQL for query: {query}\")\n",
    "    if context:\n",
    "        print(f\"Using context: {context}\")\n",
    "    \n",
    "    # 실제로는 여기서 LLM을 사용하여 SQL 생성\n",
    "    sql = f\"SELECT * FROM table WHERE condition -- Based on: {query}\"\n",
    "    return {\"sql\": sql, \"aggregate\": [\"SQL generated\"]}\n",
    "\n",
    "# 그래프 생성\n",
    "# 그래프 생성\n",
    "builder = StateGraph(State)\n",
    "\n",
    "# 노드 추가\n",
    "builder.add_node(\"route\", route_node)  # 노드 함수 사용\n",
    "builder.add_node(\"tavily_search\", tavily_search)\n",
    "builder.add_node(\"sql_agent\", sql_agent)\n",
    "\n",
    "# 경로 설정\n",
    "builder.add_edge(START, \"route\")\n",
    "\n",
    "# 조건부 경로 설정 - 라우팅 함수 사용\n",
    "builder.add_conditional_edges(\n",
    "    \"route\",\n",
    "    route_to_search_or_skip,  # 라우팅 함수 사용\n",
    "    {\n",
    "        \"do_search\": \"tavily_search\",\n",
    "        \"skip_search\": \"sql_agent\"\n",
    "    }\n",
    ")\n",
    "\n",
    "# 나머지 코드는 동일\n",
    "builder.add_edge(\"tavily_search\", \"sql_agent\")\n",
    "builder.add_edge(\"sql_agent\", END)\n",
    "\n",
    "# 그래프 컴파일\n",
    "graph = builder.compile()"
   ]
  },
  {
   "cell_type": "code",
   "execution_count": 77,
   "metadata": {},
   "outputs": [
    {
     "data": {
      "image/png": "[encoded data removed]",
      "text/plain": [
       "<IPython.core.display.Image object>"
      ]
     },
     "metadata": {},
     "output_type": "display_data"
    }
   ],
   "source": [
    "from IPython.display import Image, display\n",
    "\n",
    "display(Image(graph.get_graph().draw_mermaid_png()))"
   ]
  },
  {
   "cell_type": "code",
   "execution_count": 79,
   "metadata": {},
   "outputs": [
    {
     "name": "stdout",
     "output_type": "stream",
     "text": [
      "Processing query: 회사의 2023년 매출 데이터를 보여줘\n",
      "No [SEARCH] in query, will skip web search\n",
      "Generating SQL for query: 회사의 2023년 매출 데이터를 보여줘\n",
      "\n",
      " ---------------------------------------------------------------------------------------------------- \n",
      "\n",
      "Processing query: [SEARCH] 2023년 글로벌 반도체 시장 규모와 회사별 점유율을 보여줘\n",
      "Found [SEARCH] in query, will perform web search\n",
      "Performing web search for: 2023년 글로벌 반도체 시장 규모와 회사별 점유율을 보여줘\n",
      "Generating SQL for query: 2023년 글로벌 반도체 시장 규모와 회사별 점유율을 보여줘\n",
      "Using context: Simulated search results for: 2023년 글로벌 반도체 시장 규모와 회사별 점유율을 보여줘\n"
     ]
    }
   ],
   "source": [
    "\n",
    "# 테스트 실행\n",
    "inputs = {\n",
    "    \"query\": \"회사의 2023년 매출 데이터를 보여줘\",\n",
    "    \"aggregate\": []\n",
    "}\n",
    "result = graph.invoke(inputs)\n",
    "print(\"\\n\",\"-\"*100,\"\\n\")\n",
    "inputs_with_search = {\n",
    "    \"query\": \"[SEARCH] 2023년 글로벌 반도체 시장 규모와 회사별 점유율을 보여줘\",\n",
    "    \"aggregate\": []\n",
    "}\n",
    "result_with_search = graph.invoke(inputs_with_search)"
   ]
  },
  {
   "cell_type": "code",
   "execution_count": null,
   "metadata": {},
   "outputs": [],
   "source": []
  },
  {
   "cell_type": "code",
   "execution_count": null,
   "metadata": {},
   "outputs": [],
   "source": []
  },
  {
   "cell_type": "code",
   "execution_count": null,
   "metadata": {},
   "outputs": [],
   "source": []
  },
  {
   "cell_type": "code",
   "execution_count": 15,
   "metadata": {},
   "outputs": [],
   "source": [
    "url = \"https://grapeman.duckdns.org/static/audio/1742640943.m4a\""
   ]
  },
  {
   "cell_type": "code",
   "execution_count": 16,
   "metadata": {},
   "outputs": [],
   "source": [
    "import requests\n",
    "\n",
    "response = requests.get(url)\n",
    "\n",
    "with open(\"test.m4a\", \"wb\") as f:\n",
    "    f.write(response.content)"
   ]
  },
  {
   "cell_type": "code",
   "execution_count": 14,
   "metadata": {},
   "outputs": [
    {
     "name": "stdout",
     "output_type": "stream",
     "text": [
      "응답 코드: 403\n",
      "❌ 다운로드 실패: <html>\n",
      "<head><title>403 Forbidden</title></head>\n",
      "<body>\n",
      "<center><h1>403 Forbidden</h1></center>\n",
      "<hr><center>nginx/1.18.0 (Ubuntu)</center>\n",
      "</body>\n",
      "</html>\n",
      "\n"
     ]
    }
   ],
   "source": [
    "import requests\n",
    "\n",
    "headers = {\n",
    "    \"User-Agent\": \"Mozilla/5.0 (Windows NT 10.0; Win64; x64)\"\n",
    "}\n",
    "url = \"https://grapeman.duckdns.org/static/audio/1742640630.m4a\"\n",
    "\n",
    "response = requests.get(url, headers=headers)\n",
    "\n",
    "print(\"응답 코드:\", response.status_code)\n",
    "\n",
    "if response.status_code == 200:\n",
    "    with open(\"test_download.m4a\", \"wb\") as f:\n",
    "        f.write(response.content)\n",
    "        print(\"✅ 저장 완료!\")\n",
    "else:\n",
    "    print(\"❌ 다운로드 실패:\", response.text)\n"
   ]
  },
  {
   "cell_type": "code",
   "execution_count": null,
   "metadata": {},
   "outputs": [],
   "source": []
  }
 ],
 "metadata": {
  "kernelspec": {
   "display_name": "meokten",
   "language": "python",
   "name": "python3"
  },
  "language_info": {
   "codemirror_mode": {
    "name": "ipython",
    "version": 3
   },
   "file_extension": ".py",
   "mimetype": "text/x-python",
   "name": "python",
   "nbconvert_exporter": "python",
   "pygments_lexer": "ipython3",
   "version": "3.11.8"
  }
 },
 "nbformat": 4,
 "nbformat_minor": 2
}
